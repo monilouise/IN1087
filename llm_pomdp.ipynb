{
  "nbformat": 4,
  "nbformat_minor": 0,
  "metadata": {
    "colab": {
      "provenance": []
    },
    "kernelspec": {
      "name": "python3",
      "display_name": "Python 3"
    },
    "language_info": {
      "name": "python"
    }
  },
  "cells": [
    {
      "cell_type": "code",
      "execution_count": null,
      "metadata": {
        "colab": {
          "base_uri": "https://localhost:8080/"
        },
        "id": "B8dlO5uIsqt6",
        "outputId": "b0d8ccda-886d-4102-c3a4-b9a45bee91f5"
      },
      "outputs": [
        {
          "output_type": "stream",
          "name": "stdout",
          "text": [
            "Collecting pomdp-py\n",
            "  Downloading pomdp_py-1.3.3-cp310-cp310-manylinux_2_17_x86_64.manylinux2014_x86_64.whl (5.3 MB)\n",
            "\u001b[2K     \u001b[90m━━━━━━━━━━━━━━━━━━━━━━━━━━━━━━━━━━━━━━━━\u001b[0m \u001b[32m5.3/5.3 MB\u001b[0m \u001b[31m12.8 MB/s\u001b[0m eta \u001b[36m0:00:00\u001b[0m\n",
            "\u001b[?25hRequirement already satisfied: Cython in /usr/local/lib/python3.10/dist-packages (from pomdp-py) (3.0.6)\n",
            "Requirement already satisfied: numpy in /usr/local/lib/python3.10/dist-packages (from pomdp-py) (1.23.5)\n",
            "Requirement already satisfied: scipy in /usr/local/lib/python3.10/dist-packages (from pomdp-py) (1.11.4)\n",
            "Requirement already satisfied: tqdm in /usr/local/lib/python3.10/dist-packages (from pomdp-py) (4.66.1)\n",
            "Requirement already satisfied: matplotlib in /usr/local/lib/python3.10/dist-packages (from pomdp-py) (3.7.1)\n",
            "Requirement already satisfied: pygame in /usr/local/lib/python3.10/dist-packages (from pomdp-py) (2.5.2)\n",
            "Requirement already satisfied: opencv-python in /usr/local/lib/python3.10/dist-packages (from pomdp-py) (4.8.0.76)\n",
            "Requirement already satisfied: contourpy>=1.0.1 in /usr/local/lib/python3.10/dist-packages (from matplotlib->pomdp-py) (1.2.0)\n",
            "Requirement already satisfied: cycler>=0.10 in /usr/local/lib/python3.10/dist-packages (from matplotlib->pomdp-py) (0.12.1)\n",
            "Requirement already satisfied: fonttools>=4.22.0 in /usr/local/lib/python3.10/dist-packages (from matplotlib->pomdp-py) (4.46.0)\n",
            "Requirement already satisfied: kiwisolver>=1.0.1 in /usr/local/lib/python3.10/dist-packages (from matplotlib->pomdp-py) (1.4.5)\n",
            "Requirement already satisfied: packaging>=20.0 in /usr/local/lib/python3.10/dist-packages (from matplotlib->pomdp-py) (23.2)\n",
            "Requirement already satisfied: pillow>=6.2.0 in /usr/local/lib/python3.10/dist-packages (from matplotlib->pomdp-py) (9.4.0)\n",
            "Requirement already satisfied: pyparsing>=2.3.1 in /usr/local/lib/python3.10/dist-packages (from matplotlib->pomdp-py) (3.1.1)\n",
            "Requirement already satisfied: python-dateutil>=2.7 in /usr/local/lib/python3.10/dist-packages (from matplotlib->pomdp-py) (2.8.2)\n",
            "Requirement already satisfied: six>=1.5 in /usr/local/lib/python3.10/dist-packages (from python-dateutil>=2.7->matplotlib->pomdp-py) (1.16.0)\n",
            "Installing collected packages: pomdp-py\n",
            "Successfully installed pomdp-py-1.3.3\n"
          ]
        }
      ],
      "source": [
        "!pip install pomdp-py"
      ]
    },
    {
      "cell_type": "code",
      "source": [
        "from google.colab import drive\n",
        "drive.mount('/content/drive')"
      ],
      "metadata": {
        "colab": {
          "base_uri": "https://localhost:8080/"
        },
        "id": "GDkGBPbCIOOI",
        "outputId": "1b5c985d-d4bc-4d06-b2d3-60f4dd86efc2"
      },
      "execution_count": null,
      "outputs": [
        {
          "output_type": "stream",
          "name": "stdout",
          "text": [
            "Mounted at /content/drive\n"
          ]
        }
      ]
    },
    {
      "cell_type": "markdown",
      "source": [
        "## General setup"
      ],
      "metadata": {
        "id": "i4gTs4QQwiUs"
      }
    },
    {
      "cell_type": "code",
      "source": [
        "import pomdp_py\n",
        "import numpy as np\n",
        "import random"
      ],
      "metadata": {
        "id": "4iYpA_qruPyY"
      },
      "execution_count": null,
      "outputs": []
    },
    {
      "cell_type": "code",
      "source": [
        "from collections import defaultdict\n",
        "\n",
        "def tuple_default():\n",
        "    return defaultdict((float, int))"
      ],
      "metadata": {
        "id": "SzLkYpWDoVeX"
      },
      "execution_count": null,
      "outputs": []
    },
    {
      "cell_type": "code",
      "source": [
        "import random\n",
        "\n",
        "class Q_Learning_Table:\n",
        "  def __init__(self, gamma, n, n_actions) -> None:\n",
        "    self.q_tab = defaultdict(tuple_default)\n",
        "    self.gamma = gamma\n",
        "    self.n = n\n",
        "    self.n_actions = n_actions\n",
        "\n",
        "  def update(self, goal, o_t, a_t, r_t, new_o):\n",
        "    #TODO: Ler sobre flattening policy\n",
        "    a_v = self.q_tab[(goal, new_o)]\n",
        "    best_a = None\n",
        "    max_v = float('-inf')\n",
        "\n",
        "    for a, (v, _) in a_v.items():\n",
        "      if v > max_v:\n",
        "        max_v = v\n",
        "        best_a = a\n",
        "\n",
        "    if not best_a:\n",
        "      best_a = random.randint(1, self.n_actions)\n",
        "\n",
        "    new_value = r_t + self.gamma * max_v\n",
        "\n",
        "    if (goal, o_t) not in self.q_tab or (a_t not in self.q_tab[(goal, o_t)]):\n",
        "      self.q_tab[(goal, o_t)][a_t] = new_value\n",
        "    else:\n",
        "      v, N = self.q_tab[(goal, o_t)][a_t]\n",
        "      alpha = 1/N\n",
        "      self.q_tab[(goal, o_t)][a_t] = (1 - alpha) * self.q_tab[(goal, o_t)][a_t] \\\n",
        "        + alpha * new_value\n",
        "\n",
        "\n",
        "class ExperienceMemory:\n",
        "  def __init__(self, state_value_tab : Q_Learning_Table) -> None:\n",
        "    self.state_value_tab = state_value_tab\n",
        "    self.experiences = []\n",
        "\n",
        "  def add_experience(self, goal, o_t, a_t, r_t, new_o):\n",
        "    self.experiences.append((goal, o_t, a_t, r_t, new_o))\n",
        "    self.state_value_tab.update(goal, o_t, a_t, r_t, new_o)\n",
        "\n",
        "  def __hash__(self):\n",
        "      return hash(experiences)\n",
        "\n",
        "  def __eq__(self, other):\n",
        "    if isinstance(other, State):\n",
        "      return self.experiences == other.experiences\n",
        "    else:\n",
        "      return False\n",
        "\n",
        "  def __str__(self):\n",
        "    return f\"\"\"Experience memory: {self.experiences}\\n\"\"\"\n",
        "\n",
        "  def __repr__(self):\n",
        "    return f\"\"\"Experience memory: {self.experiences}\\n\"\"\"\n"
      ],
      "metadata": {
        "id": "c3UmQhDOjcdN"
      },
      "execution_count": null,
      "outputs": []
    },
    {
      "cell_type": "code",
      "source": [
        "class State(pomdp_py.State):\n",
        "    def __init__(self, exp_mem : ExperienceMemory):\n",
        "        self.exp_mem = exp_mem\n",
        "\n",
        "    def __hash__(self):\n",
        "      return hash(self.exp_mem)\n",
        "\n",
        "    def __eq__(self, other):\n",
        "      if isinstance(other, State):\n",
        "        return self.exp_mem == other.exp_mem\n",
        "      else:\n",
        "        return False\n",
        "\n",
        "    def __str__(self):\n",
        "      return f\"\"\"Experience memory: {self.exp_mem}\\n\"\"\"\n",
        "\n",
        "    def __repr__(self):\n",
        "      return f\"\"\"Experience memory: {self.exp_mem}\\n\"\"\""
      ],
      "metadata": {
        "id": "iLzzZSDssz6f"
      },
      "execution_count": null,
      "outputs": []
    },
    {
      "cell_type": "code",
      "source": [
        "class Action(pomdp_py.Action):\n",
        "    \"\"\"Simple named action.\"\"\"\n",
        "    def __init__(self, name):\n",
        "        self.name = name\n",
        "    def __hash__(self):\n",
        "        return hash(self.name)\n",
        "    def __eq__(self, other):\n",
        "        if isinstance(other, Action):\n",
        "            return self.name == other.name\n",
        "        elif type(other) == str:\n",
        "            return self.name == other\n",
        "    def __str__(self):\n",
        "        return self.name\n",
        "    def __repr__(self):\n",
        "        return \"Action(%s)\" % self.name"
      ],
      "metadata": {
        "id": "Ly8RPk7GuTv-"
      },
      "execution_count": null,
      "outputs": []
    },
    {
      "cell_type": "code",
      "source": [
        "class Observation(pomdp_py.Observation):\n",
        "    def __init__(self, screen: str):\n",
        "        self.screen = screen\n",
        "\n",
        "    def __hash__(self):\n",
        "      return hash(self.screen)\n",
        "\n",
        "    def __eq__(self, other):\n",
        "        return self.screen == other.screen\n",
        "\n",
        "    def __str__(self):\n",
        "      return f\"\"\"Screen: {self.screen}\\n\"\"\"\n",
        "\n",
        "    def __repr__(self):\n",
        "      return f\"\"\"Screen: {self.screen}\\n\"\"\""
      ],
      "metadata": {
        "id": "ClgA2E-_ura_"
      },
      "execution_count": null,
      "outputs": []
    },
    {
      "cell_type": "code",
      "source": [
        "class ObservationModel(pomdp_py.ObservationModel):\n",
        "  def probability(self, observation, next_state, action):\n",
        "    #Vamos assumir que a observação, no caso a descrição da tela, é fidedigna.  Portanro, esta não é uma fonte de incerteza.\n",
        "    return 1.0\n",
        "\n",
        "  def sample(self, next_state: State, action):\n",
        "    exp = next_state.exp_mem.experiences\n",
        "    return exp[len(exp) - 1][1]"
      ],
      "metadata": {
        "id": "Qiitw07jkm8S"
      },
      "execution_count": null,
      "outputs": []
    },
    {
      "cell_type": "code",
      "source": [
        "class TransitionModel(pomdp_py.TransitionModel):\n",
        "  def probability(self, next_state, state, action):\n",
        "    return 1.0 - 1e-9\n",
        "\n",
        "  def sample(self, state, action):\n",
        "    #TODO: Aqui, vamos precisar do env para executar a ação no novo estado\n",
        "    pass\n"
      ],
      "metadata": {
        "id": "dejeZ-KnmWFr"
      },
      "execution_count": null,
      "outputs": []
    },
    {
      "cell_type": "code",
      "source": [],
      "metadata": {
        "id": "Z7pfER7QaETH"
      },
      "execution_count": null,
      "outputs": []
    }
  ]
}